{
 "cells": [
  {
   "cell_type": "code",
   "execution_count": 2,
   "metadata": {},
   "outputs": [
    {
     "data": {
      "text/html": [
       "<div>\n",
       "<style scoped>\n",
       "    .dataframe tbody tr th:only-of-type {\n",
       "        vertical-align: middle;\n",
       "    }\n",
       "\n",
       "    .dataframe tbody tr th {\n",
       "        vertical-align: top;\n",
       "    }\n",
       "\n",
       "    .dataframe thead th {\n",
       "        text-align: right;\n",
       "    }\n",
       "</style>\n",
       "<table border=\"1\" class=\"dataframe\">\n",
       "  <thead>\n",
       "    <tr style=\"text-align: right;\">\n",
       "      <th></th>\n",
       "      <th>대여스테이션</th>\n",
       "      <th>대여일시</th>\n",
       "      <th>반납스테이션</th>\n",
       "      <th>반납일시</th>\n",
       "      <th>이동거리</th>\n",
       "      <th>rental_time</th>\n",
       "    </tr>\n",
       "  </thead>\n",
       "  <tbody>\n",
       "    <tr>\n",
       "      <th>47</th>\n",
       "      <td>1</td>\n",
       "      <td>2022-07-23 10:12:20</td>\n",
       "      <td>985</td>\n",
       "      <td>2022-07-23 10:20:39</td>\n",
       "      <td>500</td>\n",
       "      <td>499</td>\n",
       "    </tr>\n",
       "    <tr>\n",
       "      <th>48</th>\n",
       "      <td>985</td>\n",
       "      <td>2022-07-23 10:23:19</td>\n",
       "      <td>885</td>\n",
       "      <td>2022-07-23 10:29:18</td>\n",
       "      <td>100</td>\n",
       "      <td>359</td>\n",
       "    </tr>\n",
       "    <tr>\n",
       "      <th>49</th>\n",
       "      <td>985</td>\n",
       "      <td>2022-07-23 10:23:24</td>\n",
       "      <td>885</td>\n",
       "      <td>2022-07-23 10:29:30</td>\n",
       "      <td>100</td>\n",
       "      <td>366</td>\n",
       "    </tr>\n",
       "    <tr>\n",
       "      <th>50</th>\n",
       "      <td>885</td>\n",
       "      <td>2022-07-23 10:33:08</td>\n",
       "      <td>1</td>\n",
       "      <td>2022-07-23 10:39:16</td>\n",
       "      <td>500</td>\n",
       "      <td>368</td>\n",
       "    </tr>\n",
       "    <tr>\n",
       "      <th>51</th>\n",
       "      <td>885</td>\n",
       "      <td>2022-07-23 10:33:17</td>\n",
       "      <td>1</td>\n",
       "      <td>2022-07-23 10:39:25</td>\n",
       "      <td>500</td>\n",
       "      <td>368</td>\n",
       "    </tr>\n",
       "  </tbody>\n",
       "</table>\n",
       "</div>"
      ],
      "text/plain": [
       "    대여스테이션                대여일시  반납스테이션                반납일시  이동거리  rental_time\n",
       "47       1 2022-07-23 10:12:20     985 2022-07-23 10:20:39   500          499\n",
       "48     985 2022-07-23 10:23:19     885 2022-07-23 10:29:18   100          359\n",
       "49     985 2022-07-23 10:23:24     885 2022-07-23 10:29:30   100          366\n",
       "50     885 2022-07-23 10:33:08       1 2022-07-23 10:39:16   500          368\n",
       "51     885 2022-07-23 10:33:17       1 2022-07-23 10:39:25   500          368"
      ]
     },
     "execution_count": 2,
     "metadata": {},
     "output_type": "execute_result"
    }
   ],
   "source": [
    "import pandas as pd\n",
    "import os\n",
    "\n",
    "dpath = os.path.join('preprocessed', '2022_season2_processed.csv')\n",
    "df = pd.read_csv(dpath,\n",
    "                 index_col=0,\n",
    "                 parse_dates=['대여일시', '반납일시'],\n",
    "                 infer_datetime_format=True)\n",
    "rental = os.path.join('preprocessed', 'season2_rental_office.csv')\n",
    "df_rental = pd.read_csv(rental,\n",
    "                        index_col=1)\n",
    "df.head()"
   ]
  },
  {
   "cell_type": "code",
   "execution_count": null,
   "metadata": {},
   "outputs": [],
   "source": []
  }
 ],
 "metadata": {
  "kernelspec": {
   "display_name": "da",
   "language": "python",
   "name": "python3"
  },
  "language_info": {
   "codemirror_mode": {
    "name": "ipython",
    "version": 3
   },
   "file_extension": ".py",
   "mimetype": "text/x-python",
   "name": "python",
   "nbconvert_exporter": "python",
   "pygments_lexer": "ipython3",
   "version": "3.11.3"
  },
  "orig_nbformat": 4
 },
 "nbformat": 4,
 "nbformat_minor": 2
}
